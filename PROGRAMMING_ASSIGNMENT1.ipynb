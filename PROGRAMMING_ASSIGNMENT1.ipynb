{
 "cells": [
  {
   "cell_type": "code",
   "execution_count": 7,
   "id": "94da97de-6cf4-4127-b9c6-acae625d4781",
   "metadata": {},
   "outputs": [
    {
     "name": "stdout",
     "output_type": "stream",
     "text": [
      "ehllo\n",
      "acehkr\n"
     ]
    }
   ],
   "source": [
    "def alphabet_soup(word):\n",
    "    #This function takes an input string and rearranges it alphabetically.\n",
    "\n",
    "    #Initializing the variables\n",
    "    charactersArray = []\n",
    "    alphabeticalCharactersArray = []\n",
    "    newString = \"\"\n",
    "    \n",
    "    #Placing characters from the word parameter to an array\n",
    "    for char in word:\n",
    "        charactersArray.append(char)\n",
    "\n",
    "    #Duplicating the original array to another array and sorting that for a more non-destructive workflow\n",
    "    alphabeticalCharactersArray = charactersArray\n",
    "    alphabeticalCharactersArray.sort()\n",
    "\n",
    "    #Converting from array back to an str\n",
    "    for char in alphabeticalCharactersArray:\n",
    "        newString += char\n",
    "    \n",
    "    \n",
    "    return newString\n",
    "\n",
    "print(alphabet_soup(\"hello\"))\n",
    "print(alphabet_soup(\"hacker\"))\n",
    "    "
   ]
  },
  {
   "cell_type": "code",
   "execution_count": 65,
   "id": "05778563-8e4b-4627-8c10-de5f54b90bf6",
   "metadata": {},
   "outputs": [
    {
     "name": "stdout",
     "output_type": "stream",
     "text": [
      "Make me :)\n",
      "I am >:(\n"
     ]
    }
   ],
   "source": [
    "def emotify(check):\n",
    "    #This function takes a string and converts any emotifyable words to emoticons\n",
    "\n",
    "    #Key:Value pair of emoticons\n",
    "    emoticonsDictionary = {\n",
    "        \"smile\": \":)\",\n",
    "        \"grin\": \":D\",\n",
    "        \"sad\": \":((\",\n",
    "        \"mad\": \">:(\"\n",
    "    }\n",
    "\n",
    "    words = check.split() #Split the words into their own elements\n",
    "    \n",
    "    \n",
    "    for word in words:\n",
    "        i=1\n",
    "        i+=1\n",
    "        \n",
    "        if word.lower() in emoticonsDictionary: #Checking if a word matches a key in the dictionary\n",
    "            words[i] = emoticonsDictionary[word.lower()]\n",
    "\n",
    "    return \" \".join(words)\n",
    "\n",
    "print(emotify(\"Make me smile\"))\n",
    "print(emotify(\"I am mad\"))\n"
   ]
  },
  {
   "cell_type": "code",
   "execution_count": 61,
   "id": "83ef8d48-d530-4d91-abd6-736043f5fb27",
   "metadata": {},
   "outputs": [
    {
     "name": "stdout",
     "output_type": "stream",
     "text": [
      "first: 1\n",
      "middle: [2, 3, 4, 5]\n",
      "last: 6\n"
     ]
    }
   ],
   "source": [
    "def unpack(userList):\n",
    "    \n",
    "    workingList = userList #Duplicating the list for a non-destructive workflow\n",
    "    \n",
    "    first = workingList.pop(0) #Removing and setting the first element of the list to its own variable\n",
    "    last = workingList.pop(-1) #Removing and setting the last element of the list to its own variable\n",
    "    middle = workingList #Setting the rest of the list to its own variable\n",
    "\n",
    "    if(len(middle) == 1): #If the middle list has only 1 element, we make it into a single value\n",
    "        middle = middle.pop(0)\n",
    "\n",
    "    return [first, middle, last]\n",
    "\n",
    "unpackArray = unpack([1, 2, 3, 4, 5, 6])\n",
    "first = unpackArray[0]\n",
    "middle = unpackArray[1]\n",
    "last = unpackArray[2]\n",
    "\n",
    "print(\"first: \" + str(first))\n",
    "print(\"middle: \" + str(middle))\n",
    "print(\"last: \" + str(last))"
   ]
  },
  {
   "cell_type": "code",
   "execution_count": null,
   "id": "8f2a0491-60a2-4449-b580-5588cf35ef52",
   "metadata": {},
   "outputs": [],
   "source": []
  }
 ],
 "metadata": {
  "kernelspec": {
   "display_name": "Python [conda env:base] *",
   "language": "python",
   "name": "conda-base-py"
  },
  "language_info": {
   "codemirror_mode": {
    "name": "ipython",
    "version": 3
   },
   "file_extension": ".py",
   "mimetype": "text/x-python",
   "name": "python",
   "nbconvert_exporter": "python",
   "pygments_lexer": "ipython3",
   "version": "3.13.5"
  }
 },
 "nbformat": 4,
 "nbformat_minor": 5
}
